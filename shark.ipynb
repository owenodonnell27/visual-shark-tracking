{
 "cells": [
  {
   "cell_type": "code",
   "execution_count": 55,
   "metadata": {},
   "outputs": [],
   "source": [
    "import os"
   ]
  },
  {
   "cell_type": "code",
   "execution_count": 56,
   "metadata": {},
   "outputs": [
    {
     "name": "stdout",
     "output_type": "stream",
     "text": [
      "{'seal': 414, 'sharks': 0, 'basking': 93, 'blacktip': 114, 'blue': 107, 'bull': 109, 'hammerhead': 127, 'lemon': 119, 'mako': 101, 'nurse': 73, 'sand tiger': 97, 'thresher': 118, 'tiger': 97, 'whale': 133, 'white': 135, 'whitetip': 125}\n"
     ]
    }
   ],
   "source": [
    "species = {}\n",
    "\n",
    "for subdir, dirs, files in os.walk('.\\data-set'):\n",
    "    for dir in dirs:\n",
    "        species[dir] = 0\n",
    "    \n",
    "    # Checks if the current directory is a species of shark\n",
    "    current_dir = subdir.split('\\\\')\n",
    "    shark = current_dir[-2] == 'sharks'\n",
    "    \n",
    "    for file in files:\n",
    "        species[file.split('_')[0]] += 1\n",
    "        \n",
    "        if shark:\n",
    "            species['sharks'] += 1\n",
    "        \n",
    "print(species)"
   ]
  }
 ],
 "metadata": {
  "kernelspec": {
   "display_name": "base",
   "language": "python",
   "name": "python3"
  },
  "language_info": {
   "codemirror_mode": {
    "name": "ipython",
    "version": 3
   },
   "file_extension": ".py",
   "mimetype": "text/x-python",
   "name": "python",
   "nbconvert_exporter": "python",
   "pygments_lexer": "ipython3",
   "version": "3.10.11"
  }
 },
 "nbformat": 4,
 "nbformat_minor": 2
}
