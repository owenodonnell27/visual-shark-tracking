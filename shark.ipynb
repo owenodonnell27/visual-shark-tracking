{
 "cells": [
  {
   "cell_type": "code",
   "execution_count": 3,
   "metadata": {},
   "outputs": [
    {
     "name": "stdout",
     "output_type": "stream",
     "text": [
      "2.9.1\n",
      "['images.cv_3b83m71bd0e9jpjay4541a', 'images.cv_6a459ibhcs6jwxpuhr5a5c', 'images.cv_8h95jh7hne4mwjx0get4n8', 'images.cv_jfi9gpi48m87jdnnonw84i', 'images.cv_nzyhp6a9eyafi0dpintp', 'images.cv_t6bdjyvj8tmj2y1nnwfef', 'images.cv_tdb8qhmk1zsd5ctt5itrym', 'images.cv_xxlyun03s5lpskqvqhuh8']\n"
     ]
    }
   ],
   "source": [
    "import os\n",
    "import tensorflow as tf\n",
    "\n",
    "print(tf.__version__)\n",
    "print(os.listdir(\"./images\"))\n"
   ]
  }
 ],
 "metadata": {
  "kernelspec": {
   "display_name": "shark_env",
   "language": "python",
   "name": "python3"
  },
  "language_info": {
   "codemirror_mode": {
    "name": "ipython",
    "version": 3
   },
   "file_extension": ".py",
   "mimetype": "text/x-python",
   "name": "python",
   "nbconvert_exporter": "python",
   "pygments_lexer": "ipython3",
   "version": "3.10.13"
  }
 },
 "nbformat": 4,
 "nbformat_minor": 2
}
